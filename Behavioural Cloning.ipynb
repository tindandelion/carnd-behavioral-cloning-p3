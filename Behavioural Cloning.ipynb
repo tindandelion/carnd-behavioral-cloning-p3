{
 "cells": [
  {
   "cell_type": "code",
   "execution_count": 1,
   "metadata": {
    "collapsed": true
   },
   "outputs": [],
   "source": [
    "import csv\n",
    "import cv2\n",
    "import numpy as np\n",
    "\n",
    "def read_csv(root_path):\n",
    "    with open(root_path + 'driving_log.csv', 'r') as f:\n",
    "        reader = csv.reader(f)\n",
    "        for line in reader:\n",
    "            yield line\n",
    "\n",
    "def make_local_path(path, local_root):\n",
    "    basename = path.split('/')[-1]\n",
    "    return local_root + 'IMG/' + basename\n",
    "\n",
    "def load_image(local_path):\n",
    "    return cv2.imread(local_path)\n",
    "\n",
    "def extract_images(csv_line, local_root):\n",
    "    paths = csv_line[0:3]\n",
    "    return [load_image(make_local_path(p, local_root)) for p in paths]\n",
    "\n",
    "def extract_measurements(csv_line):\n",
    "    return float(csv_line[3])"
   ]
  },
  {
   "cell_type": "code",
   "execution_count": 2,
   "metadata": {
    "collapsed": false
   },
   "outputs": [
    {
     "name": "stdout",
     "output_type": "stream",
     "text": [
      "Reading forward images...\n",
      "\n",
      "Reading reverse images...\n",
      "\n",
      "Training set shape:  (15911, 160, 320, 3)\n",
      "Labels shape:  (15911,)\n"
     ]
    }
   ],
   "source": [
    "images = []\n",
    "measurements = []\n",
    "\n",
    "forward_img = './data/forward/'\n",
    "reverse_img = './data/reverse/'\n",
    "\n",
    "print(\"Reading forward images...\\n\")\n",
    "for line in read_csv(forward_img):\n",
    "    images.append(extract_images(line, forward_img)[0])\n",
    "    measurements.append(extract_measurements(line))\n",
    "\n",
    "print(\"Reading reverse images...\\n\")\n",
    "for line in read_csv(reverse_img):\n",
    "    images.append(extract_images(line, reverse_img)[0])\n",
    "    measurements.append(extract_measurements(line))\n",
    "\n",
    "X_train = np.array(images)\n",
    "y_train = np.array(measurements)\n",
    "\n",
    "print(\"Training set shape: \", X_train.shape)\n",
    "print(\"Labels shape: \", y_train.shape)\n"
   ]
  },
  {
   "cell_type": "code",
   "execution_count": 26,
   "metadata": {
    "collapsed": false
   },
   "outputs": [],
   "source": [
    "from keras.models import Sequential\n",
    "from keras.layers import Flatten, Dense, Convolution2D, MaxPooling2D\n",
    "\n",
    "image_shape = X_train.shape[1:]\n",
    "\n",
    "model = Sequential()\n",
    "model.add(Convolution2D(6, kernel_size=(5, 5), padding='valid', activation='relu', input_shape=image_shape))\n",
    "model.add(MaxPooling2D(pool_size=2, padding='valid'))\n",
    "model.add(Convolution2D(16, kernel_size=(5, 5), padding='valid', activation='relu'))\n",
    "model.add(MaxPooling2D(pool_size=2, padding='valid'))\n",
    "model.add(Flatten())\n",
    "model.add(Dense(120, activation='relu'))\n",
    "model.add(Dense(84, activation='relu'))\n",
    "model.add(Dense(1))"
   ]
  },
  {
   "cell_type": "code",
   "execution_count": null,
   "metadata": {
    "collapsed": false
   },
   "outputs": [
    {
     "name": "stdout",
     "output_type": "stream",
     "text": [
      "Train on 12728 samples, validate on 3183 samples\n",
      "Epoch 1/10\n",
      "32s - loss: 12784.7800 - val_loss: 4.8767\n",
      "Epoch 2/10\n",
      "32s - loss: 3.5255 - val_loss: 3.7458\n",
      "Epoch 3/10\n",
      "32s - loss: 2.7494 - val_loss: 3.5663\n",
      "Epoch 4/10\n",
      "32s - loss: 2.2189 - val_loss: 3.3368\n",
      "Epoch 5/10\n",
      "32s - loss: 1.8775 - val_loss: 3.2613\n",
      "Epoch 6/10\n",
      "32s - loss: 1.6205 - val_loss: 3.1856\n",
      "Epoch 7/10\n",
      "32s - loss: 1.3787 - val_loss: 3.2060\n",
      "Epoch 8/10\n"
     ]
    }
   ],
   "source": [
    "model.compile(loss='mse', optimizer='adam')\n",
    "hsitory = model.fit(X_train, y_train, validation_split=0.2, shuffle=True, verbose=2, batch_size=128)\n",
    "\n",
    "model.save('model.h5')"
   ]
  },
  {
   "cell_type": "code",
   "execution_count": 17,
   "metadata": {
    "collapsed": false
   },
   "outputs": [
    {
     "data": {
      "text/plain": [
       "['__class__',\n",
       " '__delattr__',\n",
       " '__dict__',\n",
       " '__dir__',\n",
       " '__doc__',\n",
       " '__eq__',\n",
       " '__format__',\n",
       " '__ge__',\n",
       " '__getattribute__',\n",
       " '__gt__',\n",
       " '__hash__',\n",
       " '__init__',\n",
       " '__le__',\n",
       " '__lt__',\n",
       " '__module__',\n",
       " '__ne__',\n",
       " '__new__',\n",
       " '__reduce__',\n",
       " '__reduce_ex__',\n",
       " '__repr__',\n",
       " '__setattr__',\n",
       " '__sizeof__',\n",
       " '__str__',\n",
       " '__subclasshook__',\n",
       " '__weakref__',\n",
       " 'epoch',\n",
       " 'history',\n",
       " 'model',\n",
       " 'on_batch_begin',\n",
       " 'on_batch_end',\n",
       " 'on_epoch_begin',\n",
       " 'on_epoch_end',\n",
       " 'on_train_begin',\n",
       " 'on_train_end',\n",
       " 'params',\n",
       " 'set_model',\n",
       " 'set_params',\n",
       " 'validation_data']"
      ]
     },
     "execution_count": 17,
     "metadata": {},
     "output_type": "execute_result"
    }
   ],
   "source": [
    "dir(hsitory)"
   ]
  },
  {
   "cell_type": "code",
   "execution_count": 18,
   "metadata": {
    "collapsed": false
   },
   "outputs": [
    {
     "data": {
      "text/plain": [
       "{'loss': [73.392804739384488,\n",
       "  0.061742319696770756,\n",
       "  0.054248671892077424,\n",
       "  0.050921940507565107,\n",
       "  0.048344383424816458,\n",
       "  0.046701452333660416,\n",
       "  0.045484262562487429,\n",
       "  0.044397451819431701,\n",
       "  0.043593925178650413,\n",
       "  0.042129485907137283],\n",
       " 'val_loss': [0.069505910310125318,\n",
       "  0.069512187287344845,\n",
       "  0.064869238534182111,\n",
       "  0.064420352229088346,\n",
       "  0.066191142833693067,\n",
       "  0.070269243286684407,\n",
       "  0.070607907676842843,\n",
       "  0.074168473699235737,\n",
       "  0.076674906515870084,\n",
       "  0.076653907165642882]}"
      ]
     },
     "execution_count": 18,
     "metadata": {},
     "output_type": "execute_result"
    }
   ],
   "source": [
    "hsitory.history"
   ]
  },
  {
   "cell_type": "code",
   "execution_count": 20,
   "metadata": {
    "collapsed": true
   },
   "outputs": [],
   "source": [
    "loss = hsitory.history['loss']\n",
    "val_loss = hsitory.history['val_loss']"
   ]
  },
  {
   "cell_type": "code",
   "execution_count": 24,
   "metadata": {
    "collapsed": false
   },
   "outputs": [
    {
     "data": {
      "text/plain": [
       "[<matplotlib.lines.Line2D at 0x7f14acd86550>]"
      ]
     },
     "execution_count": 24,
     "metadata": {},
     "output_type": "execute_result"
    },
    {
     "data": {
      "image/png": "[encoded data removed]",
      "text/plain": [
       "<matplotlib.figure.Figure at 0x7f14acd43b38>"
      ]
     },
     "metadata": {},
     "output_type": "display_data"
    }
   ],
   "source": [
    "import matplotlib.pyplot as plt\n",
    "%matplotlib inline\n",
    "\n",
    "plt.plot(range(10), loss)\n",
    "plt.plot(range(10), val_loss)"
   ]
  },
  {
   "cell_type": "code",
   "execution_count": null,
   "metadata": {
    "collapsed": true
   },
   "outputs": [],
   "source": []
  }
 ],
 "metadata": {
  "kernelspec": {
   "display_name": "Python 3",
   "language": "python",
   "name": "python3"
  },
  "language_info": {
   "codemirror_mode": {
    "name": "ipython",
    "version": 3
   },
   "file_extension": ".py",
   "mimetype": "text/x-python",
   "name": "python",
   "nbconvert_exporter": "python",
   "pygments_lexer": "ipython3",
   "version": "3.5.2"
  },
  "widgets": {
   "state": {},
   "version": "1.1.2"
  }
 },
 "nbformat": 4,
 "nbformat_minor": 2
}

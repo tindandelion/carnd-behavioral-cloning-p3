{
 "cells": [
  {
   "cell_type": "code",
   "execution_count": 47,
   "metadata": {
    "collapsed": false
   },
   "outputs": [
    {
     "name": "stdout",
     "output_type": "stream",
     "text": [
      "Overwriting model.py\n"
     ]
    }
   ],
   "source": [
    "%%writefile model.py\n",
    "import csv\n",
    "import cv2\n",
    "import random as rnd\n",
    "import numpy as np\n",
    "import matplotlib.pyplot as plt\n",
    "\n",
    "\n",
    "from tqdm import tqdm\n",
    "from sklearn.model_selection import train_test_split, KFold\n",
    "from sklearn.utils import shuffle\n",
    "\n",
    "from keras.models import Sequential\n",
    "from keras.layers import Flatten, Dense, Convolution2D, MaxPooling2D, Lambda, Cropping2D, Dropout\n",
    "from keras.optimizers import Adagrad\n",
    "\n",
    "def read_csv(root_path):\n",
    "    with open(root_path + 'driving_log.csv', 'r') as f:\n",
    "        reader = csv.reader(f)\n",
    "        for line in reader:\n",
    "            yield line\n",
    "\n",
    "def make_local_path(path, local_root):\n",
    "    basename = path.split('/')[-1]\n",
    "    return local_root + 'IMG/' + basename\n",
    "\n",
    "def read_data(data_path):\n",
    "    samples = []\n",
    "    for line in read_csv(data_path):\n",
    "        images = [make_local_path(p, data_path) for p in line[0:3]]\n",
    "        steering_angle = float(line[3])\n",
    "        samples.append((images, steering_angle))\n",
    "                \n",
    "    return samples\n",
    "\n",
    "def baseline_mse(samples):\n",
    "    angles = np.array([s[1] for s in samples])\n",
    "    return np.mean(np.square(angles - np.mean(angles)))\n",
    "\n",
    "def augment_with_side_cameras(samples, angle_correction=0):\n",
    "    new_samples = []\n",
    "    for images, angle in samples:\n",
    "        center, left, right = images\n",
    "        new_samples.append((center, angle))\n",
    "        if angle_correction > 0:\n",
    "            new_samples.append((left, angle + angle_correction))\n",
    "            new_samples.append((right, angle - angle_correction))\n",
    "    return new_samples\n",
    "\n",
    "def read_image(path):\n",
    "    img = cv2.imread(path)\n",
    "    return cv2.cvtColor(img, cv2.COLOR_BGR2RGB)\n",
    "\n",
    "def generator(samples, batch_size=32):\n",
    "    num_samples = len(samples)\n",
    "    batch_size = batch_size\n",
    "    while True: \n",
    "        shuffle(samples)\n",
    "        for offset in range(0, num_samples, batch_size):\n",
    "            batch_samples = samples[offset:offset+batch_size]\n",
    "\n",
    "            images = []\n",
    "            angles = []\n",
    "            for img_path, angle in batch_samples:\n",
    "                img = read_image(img_path)\n",
    "                images.append(img)\n",
    "                angles.append(angle)\n",
    "\n",
    "            X_train = np.array(images)\n",
    "            y_train = np.array(angles)\n",
    "            yield shuffle(X_train, y_train)\n",
    "            \n",
    "def balance_samples(samples):\n",
    "    result = []\n",
    "    zero_threshold = 0.1\n",
    "\n",
    "    for s in samples: \n",
    "        angle = s[1]\n",
    "        if abs(angle) < zero_threshold:\n",
    "            chance = rnd.uniform(0, 1)\n",
    "            if (chance > 0.7):\n",
    "                result.append(s)\n",
    "        else:\n",
    "            result.append(s)\n",
    "    return result\n",
    "            \n",
    "\n",
    "data_path = './driving-training/'\n",
    "angle_correction = 0.2\n",
    "\n",
    "samples = balance_samples(read_data(data_path))\n",
    "print(\"Dataset size: %d\" % len(samples))\n",
    "\n",
    "train_samples, valid_samples = train_test_split(samples, test_size=0.2)\n",
    "\n",
    "train_samples = augment_with_side_cameras(samples, angle_correction)\n",
    "valid_samples = augment_with_side_cameras(valid_samples, 0)\n",
    "\n",
    "print(\"Training set size: %d\" % len(train_samples))\n",
    "print(\"Validation set size: %d\" % len(valid_samples))\n",
    "\n",
    "image_shape = (160, 320, 3)\n",
    "cropping = ((60, 0), (0, 0))\n",
    "dropout_rate = 0\n",
    "batch_size = 128\n",
    "\n",
    "normalize = lambda x: (x - 127.0) / 127.0\n",
    "\n",
    "model = Sequential()\n",
    "model.add(Lambda(normalize, input_shape=image_shape))\n",
    "model.add(Cropping2D(cropping=cropping))\n",
    "model.add(Convolution2D(24, kernel_size=(5, 5), strides=(2, 2), padding='valid', activation='relu'))\n",
    "model.add(Convolution2D(36, kernel_size=(5, 5), strides=(2, 2), padding='valid', activation='relu'))\n",
    "model.add(Convolution2D(48, kernel_size=(5, 5), strides=(2, 2), padding='valid', activation='relu'))\n",
    "model.add(Convolution2D(64, kernel_size=(3, 3), padding='valid', activation='relu'))\n",
    "model.add(Convolution2D(64, kernel_size=(3, 3), padding='valid', activation='relu'))\n",
    "\n",
    "model.add(Flatten())\n",
    "model.add(Dropout(dropout_rate))\n",
    "model.add(Dense(100, activation='relu'))\n",
    "model.add(Dropout(dropout_rate))\n",
    "model.add(Dense(50, activation='relu'))\n",
    "model.add(Dropout(dropout_rate))\n",
    "model.add(Dense(10, activation='relu'))\n",
    "model.add(Dense(1))\n",
    "\n",
    "optimizer = Adagrad(lr=0.001)\n",
    "model.compile(loss='mse', optimizer=optimizer)\n",
    "\n",
    "history = model.fit_generator(generator(train_samples, batch_size), len(train_samples) // batch_size, \n",
    "                             validation_data=generator(valid_samples, batch_size), \n",
    "                             validation_steps=(len(valid_samples) // batch_size), \n",
    "                             epochs = 20, \n",
    "                             verbose = 1)\n",
    "\n",
    "model.save('model.h5')\n"
   ]
  },
  {
   "cell_type": "code",
   "execution_count": 42,
   "metadata": {
    "collapsed": false
   },
   "outputs": [
    {
     "data": {
      "text/plain": [
       "(array([ 1578.,   747.,   841.,   921.,   565.,  3688.,   974.,   731.,\n",
       "          700.,  1785.]),\n",
       " array([-1. , -0.8, -0.6, -0.4, -0.2,  0. ,  0.2,  0.4,  0.6,  0.8,  1. ]),\n",
       " <a list of 10 Patch objects>)"
      ]
     },
     "execution_count": 42,
     "metadata": {},
     "output_type": "execute_result"
    },
    {
     "data": {
      "image/png": "[encoded data removed]",
      "text/plain": [
       "<matplotlib.figure.Figure at 0x7f31e504aba8>"
      ]
     },
     "metadata": {},
     "output_type": "display_data"
    }
   ],
   "source": [
    "plt.hist([s[1] for s in samples])"
   ]
  },
  {
   "cell_type": "code",
   "execution_count": 45,
   "metadata": {
    "collapsed": false,
    "deletable": true,
    "editable": true
   },
   "outputs": [
    {
     "name": "stdout",
     "output_type": "stream",
     "text": [
      "Epoch 1/20\n",
      "59s - loss: 0.1210 - val_loss: 0.1264\n",
      "Epoch 2/20\n",
      "59s - loss: 0.1193 - val_loss: 0.1255\n",
      "Epoch 3/20\n",
      "59s - loss: 0.1183 - val_loss: 0.1284\n",
      "Epoch 4/20\n",
      "59s - loss: 0.1173 - val_loss: 0.1264\n",
      "Epoch 5/20\n",
      "59s - loss: 0.1162 - val_loss: 0.1197\n",
      "Epoch 6/20\n",
      "59s - loss: 0.1155 - val_loss: 0.1165\n",
      "Epoch 7/20\n",
      "59s - loss: 0.1144 - val_loss: 0.1157\n",
      "Epoch 8/20\n",
      "59s - loss: 0.1134 - val_loss: 0.1152\n",
      "Epoch 9/20\n",
      "59s - loss: 0.1126 - val_loss: 0.1219\n",
      "Epoch 10/20\n",
      "59s - loss: 0.1122 - val_loss: 0.1194\n",
      "Epoch 11/20\n",
      "59s - loss: 0.1115 - val_loss: 0.1172\n",
      "Epoch 12/20\n",
      "59s - loss: 0.1109 - val_loss: 0.1185\n",
      "Epoch 13/20\n",
      "59s - loss: 0.1102 - val_loss: 0.1150\n",
      "Epoch 14/20\n",
      "59s - loss: 0.1094 - val_loss: 0.1197\n",
      "Epoch 15/20\n",
      "59s - loss: 0.1088 - val_loss: 0.1249\n",
      "Epoch 16/20\n",
      "59s - loss: 0.1082 - val_loss: 0.1283\n",
      "Epoch 17/20\n",
      "59s - loss: 0.1075 - val_loss: 0.1170\n",
      "Epoch 18/20\n",
      "59s - loss: 0.1070 - val_loss: 0.1159\n",
      "Epoch 19/20\n",
      "59s - loss: 0.1064 - val_loss: 0.1120\n",
      "Epoch 20/20\n",
      "59s - loss: 0.1059 - val_loss: 0.1102\n",
      "Average validation loss: 0.120\n"
     ]
    }
   ],
   "source": [
    "\n",
    "print(\"Average validation loss: %.3f\" %  np.mean(history.history['val_loss']))"
   ]
  },
  {
   "cell_type": "code",
   "execution_count": 46,
   "metadata": {
    "collapsed": false,
    "deletable": true,
    "editable": true
   },
   "outputs": [
    {
     "data": {
      "text/plain": [
       "(0, 0.2)"
      ]
     },
     "execution_count": 46,
     "metadata": {},
     "output_type": "execute_result"
    },
    {
     "data": {
      "image/png": "[encoded data removed]",
      "text/plain": [
       "<matplotlib.figure.Figure at 0x7f31e4d7d0b8>"
      ]
     },
     "metadata": {},
     "output_type": "display_data"
    }
   ],
   "source": [
    "%matplotlib inline\n",
    "epochs = history.epoch\n",
    "loss = history.history['loss']\n",
    "val_loss = history.history['val_loss']\n",
    "\n",
    "plt.plot(epochs, loss)\n",
    "plt.plot(epochs, val_loss)\n",
    "plt.ylim(0, 0.2)\n"
   ]
  },
  {
   "cell_type": "code",
   "execution_count": 32,
   "metadata": {
    "collapsed": true
   },
   "outputs": [],
   "source": []
  },
  {
   "cell_type": "code",
   "execution_count": 12,
   "metadata": {
    "collapsed": false
   },
   "outputs": [],
   "source": [
    "balanced_samples = leverage_samples(samples)"
   ]
  },
  {
   "cell_type": "code",
   "execution_count": 25,
   "metadata": {
    "collapsed": false
   },
   "outputs": [
    {
     "data": {
      "text/plain": [
       "(array([ 1578.,   747.,   841.,   921.,   612.,  4647.,   974.,   731.,\n",
       "          700.,  1785.]),\n",
       " array([-1. , -0.8, -0.6, -0.4, -0.2,  0. ,  0.2,  0.4,  0.6,  0.8,  1. ]),\n",
       " <a list of 10 Patch objects>)"
      ]
     },
     "execution_count": 25,
     "metadata": {},
     "output_type": "execute_result"
    },
    {
     "data": {
      "image/png": "[encoded data removed]",
      "text/plain": [
       "<matplotlib.figure.Figure at 0x7f31e6ab3b00>"
      ]
     },
     "metadata": {},
     "output_type": "display_data"
    }
   ],
   "source": [
    "plt.hist([s[1] for s in samples])"
   ]
  },
  {
   "cell_type": "code",
   "execution_count": null,
   "metadata": {
    "collapsed": true
   },
   "outputs": [],
   "source": []
  }
 ],
 "metadata": {
  "kernelspec": {
   "display_name": "Python 3",
   "language": "python",
   "name": "python3"
  },
  "language_info": {
   "codemirror_mode": {
    "name": "ipython",
    "version": 3
   },
   "file_extension": ".py",
   "mimetype": "text/x-python",
   "name": "python",
   "nbconvert_exporter": "python",
   "pygments_lexer": "ipython3",
   "version": "3.5.2"
  },
  "widgets": {
   "state": {},
   "version": "1.1.2"
  }
 },
 "nbformat": 4,
 "nbformat_minor": 2
}

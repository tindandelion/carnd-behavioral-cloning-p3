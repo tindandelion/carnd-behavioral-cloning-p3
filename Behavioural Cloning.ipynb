{
 "cells": [
  {
   "cell_type": "code",
   "execution_count": 1,
   "metadata": {
    "collapsed": true
   },
   "outputs": [],
   "source": [
    "import csv\n",
    "import cv2\n",
    "import numpy as np\n",
    "import matplotlib.pyplot as plt\n",
    "%matplotlib inline\n",
    "%config InlineBackend.figure_format='retina'\n",
    "\n",
    "def read_csv(root_path):\n",
    "    with open(root_path + 'driving_log.csv', 'r') as f:\n",
    "        reader = csv.reader(f)\n",
    "        for line in reader:\n",
    "            yield line\n",
    "\n",
    "def make_local_path(path, local_root):\n",
    "    basename = path.split('/')[-1]\n",
    "    return local_root + 'IMG/' + basename\n",
    "\n",
    "def load_image(local_path):\n",
    "    return cv2.imread(local_path)\n",
    "\n",
    "def extract_images(csv_line, local_root):\n",
    "    paths = csv_line[0:3]\n",
    "    return [load_image(make_local_path(p, local_root)) for p in paths]\n",
    "\n",
    "def extract_measurements(csv_line):\n",
    "    return float(csv_line[3])"
   ]
  },
  {
   "cell_type": "code",
   "execution_count": 24,
   "metadata": {
    "collapsed": false
   },
   "outputs": [
    {
     "name": "stdout",
     "output_type": "stream",
     "text": [
      "Reading forward images...\n",
      "\n",
      "Reading reverse images...\n",
      "\n",
      "Training set shape:  (15911, 160, 320, 3)\n",
      "Labels shape:  (15911,)\n"
     ]
    }
   ],
   "source": [
    "images = []\n",
    "measurements = []\n",
    "\n",
    "forward_img = './data/forward/'\n",
    "reverse_img = './data/reverse/'\n",
    "\n",
    "print(\"Reading forward images...\\n\")\n",
    "for line in read_csv(forward_img):\n",
    "    images.append(extract_images(line, forward_img)[0])\n",
    "    measurements.append(extract_measurements(line))\n",
    "\n",
    "print(\"Reading reverse images...\\n\")\n",
    "for line in read_csv(reverse_img):\n",
    "    images.append(extract_images(line, reverse_img)[0])\n",
    "    measurements.append(extract_measurements(line))\n",
    "\n",
    "X_train = np.array(images, np.float32)\n",
    "y_train = np.array(measurements, np.float32)\n",
    "\n",
    "print(\"Training set shape: \", X_train.shape)\n",
    "print(\"Labels shape: \", y_train.shape)\n"
   ]
  },
  {
   "cell_type": "code",
   "execution_count": null,
   "metadata": {
    "collapsed": false
   },
   "outputs": [],
   "source": [
    "n_samples = y_train.shape[0]\n",
    "plt.plot(range(n_samples), y_train)"
   ]
  },
  {
   "cell_type": "code",
   "execution_count": 47,
   "metadata": {
    "collapsed": false
   },
   "outputs": [
    {
     "name": "stdout",
     "output_type": "stream",
     "text": [
      "Train on 12728 samples, validate on 3183 samples\n",
      "Epoch 1/15\n",
      "31s - loss: 2.5081 - val_loss: 0.0585\n",
      "Epoch 2/15\n",
      "31s - loss: 0.0539 - val_loss: 0.0510\n",
      "Epoch 3/15\n",
      "31s - loss: 0.0510 - val_loss: 0.0490\n",
      "Epoch 4/15\n",
      "31s - loss: 0.0503 - val_loss: 0.0518\n",
      "Epoch 5/15\n",
      "31s - loss: 0.0490 - val_loss: 0.0491\n",
      "Epoch 6/15\n",
      "31s - loss: 0.0481 - val_loss: 0.0503\n",
      "Epoch 7/15\n",
      "31s - loss: 0.0473 - val_loss: 0.0481\n",
      "Epoch 8/15\n",
      "31s - loss: 0.0466 - val_loss: 0.0483\n",
      "Epoch 9/15\n",
      "31s - loss: 0.0453 - val_loss: 0.0484\n",
      "Epoch 10/15\n",
      "31s - loss: 0.0449 - val_loss: 0.0477\n",
      "Epoch 11/15\n",
      "31s - loss: 0.0440 - val_loss: 0.0489\n",
      "Epoch 12/15\n",
      "31s - loss: 0.0430 - val_loss: 0.0491\n",
      "Epoch 13/15\n",
      "31s - loss: 0.0424 - val_loss: 0.0483\n",
      "Epoch 14/15\n",
      "31s - loss: 0.0409 - val_loss: 0.0535\n",
      "Epoch 15/15\n",
      "31s - loss: 0.0398 - val_loss: 0.0485\n"
     ]
    }
   ],
   "source": [
    "from keras.models import Sequential\n",
    "from keras.layers import Flatten, Dense, Convolution2D, MaxPooling2D, Lambda\n",
    "\n",
    "image_shape = X_train.shape[1:]\n",
    "normalize = lambda x: (x - 127.0) / 127.0\n",
    "\n",
    "model = Sequential()\n",
    "model.add(Lambda(normalize, input_shape=image_shape))\n",
    "model.add(Convolution2D(6, kernel_size=(5, 5), padding='valid', activation='relu', input_shape=image_shape))\n",
    "model.add(MaxPooling2D(pool_size=2, padding='valid'))\n",
    "model.add(Convolution2D(16, kernel_size=(5, 5), padding='valid', activation='relu'))\n",
    "model.add(MaxPooling2D(pool_size=2, padding='valid'))\n",
    "\n",
    "model.add(Flatten())\n",
    "model.add(Dense(120, activation='relu'))\n",
    "model.add(Dense(84, activation='relu'))\n",
    "model.add(Dense(1))\n",
    "\n",
    "model.compile(loss='mse', optimizer='adam')\n",
    "history = model.fit(X_train, y_train, validation_split=0.2, shuffle=True, verbose=2, batch_size=256, epochs=15)\n",
    "\n",
    "model.save('model.h5')"
   ]
  },
  {
   "cell_type": "code",
   "execution_count": 38,
   "metadata": {
    "collapsed": false
   },
   "outputs": [
    {
     "data": {
      "text/plain": [
       "(0, 0.2)"
      ]
     },
     "execution_count": 38,
     "metadata": {},
     "output_type": "execute_result"
    },
    {
     "data": {
      "image/png": "[encoded data removed]",
      "text/plain": [
       "<matplotlib.figure.Figure at 0x7f69d9119668>"
      ]
     },
     "metadata": {
      "image/png": {
       "height": 252,
       "width": 386
      }
     },
     "output_type": "display_data"
    }
   ],
   "source": [
    "epochs = history.epoch\n",
    "loss = history.history['loss']\n",
    "val_loss = history.history['val_loss']\n",
    "\n",
    "plt.plot(epochs, loss)\n",
    "plt.plot(epochs, val_loss)\n",
    "plt.ylim(0, 0.2)"
   ]
  },
  {
   "cell_type": "code",
   "execution_count": null,
   "metadata": {
    "collapsed": true
   },
   "outputs": [],
   "source": []
  }
 ],
 "metadata": {
  "kernelspec": {
   "display_name": "Python 3",
   "language": "python",
   "name": "python3"
  },
  "language_info": {
   "codemirror_mode": {
    "name": "ipython",
    "version": 3
   },
   "file_extension": ".py",
   "mimetype": "text/x-python",
   "name": "python",
   "nbconvert_exporter": "python",
   "pygments_lexer": "ipython3",
   "version": "3.5.2"
  },
  "widgets": {
   "state": {},
   "version": "1.1.2"
  }
 },
 "nbformat": 4,
 "nbformat_minor": 2
}

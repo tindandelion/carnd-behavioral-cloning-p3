{
 "cells": [
  {
   "cell_type": "code",
   "execution_count": 1,
   "metadata": {
    "collapsed": true
   },
   "outputs": [],
   "source": [
    "import csv\n",
    "import cv2\n",
    "import numpy as np\n",
    "import matplotlib.pyplot as plt\n",
    "%matplotlib inline\n",
    "%config InlineBackend.figure_format='retina'\n",
    "\n",
    "def read_csv(root_path):\n",
    "    with open(root_path + 'driving_log.csv', 'r') as f:\n",
    "        reader = csv.reader(f)\n",
    "        for line in reader:\n",
    "            yield line\n",
    "\n",
    "def make_local_path(path, local_root):\n",
    "    basename = path.split('/')[-1]\n",
    "    return local_root + 'IMG/' + basename\n",
    "\n",
    "def load_image(local_path):\n",
    "    return cv2.imread(local_path)\n",
    "\n",
    "def extract_images(csv_line, local_root):\n",
    "    paths = csv_line[0:3]\n",
    "    return [load_image(make_local_path(p, local_root)) for p in paths]\n",
    "\n",
    "def extract_measurements(csv_line):\n",
    "    return float(csv_line[3])"
   ]
  },
  {
   "cell_type": "code",
   "execution_count": 2,
   "metadata": {
    "collapsed": false
   },
   "outputs": [
    {
     "name": "stdout",
     "output_type": "stream",
     "text": [
      "Reading forward images...\n",
      "\n",
      "Reading reverse images...\n",
      "\n",
      "Training set shape:  (15911, 160, 320, 3)\n",
      "Labels shape:  (15911,)\n"
     ]
    }
   ],
   "source": [
    "images = []\n",
    "measurements = []\n",
    "\n",
    "forward_img = './data/forward/'\n",
    "reverse_img = './data/reverse/'\n",
    "\n",
    "print(\"Reading forward images...\\n\")\n",
    "for line in read_csv(forward_img):\n",
    "    images.append(extract_images(line, forward_img)[0])\n",
    "    measurements.append(extract_measurements(line))\n",
    "\n",
    "print(\"Reading reverse images...\\n\")\n",
    "for line in read_csv(reverse_img):\n",
    "    images.append(extract_images(line, reverse_img)[0])\n",
    "    measurements.append(extract_measurements(line))\n",
    "\n",
    "X_train = np.array(images, np.float32)\n",
    "y_train = np.array(measurements, np.float32)\n",
    "\n",
    "print(\"Training set shape: \", X_train.shape)\n",
    "print(\"Labels shape: \", y_train.shape)\n"
   ]
  },
  {
   "cell_type": "code",
   "execution_count": 6,
   "metadata": {
    "collapsed": false
   },
   "outputs": [
    {
     "name": "stdout",
     "output_type": "stream",
     "text": [
      "Train on 12728 samples, validate on 3183 samples\n",
      "Epoch 1/10\n",
      "22s - loss: 0.0568 - val_loss: 0.0536\n",
      "Epoch 2/10\n",
      "21s - loss: 0.0530 - val_loss: 0.0500\n",
      "Epoch 3/10\n",
      "21s - loss: 0.0513 - val_loss: 0.0489\n",
      "Epoch 4/10\n",
      "21s - loss: 0.0503 - val_loss: 0.0485\n",
      "Epoch 5/10\n",
      "21s - loss: 0.0495 - val_loss: 0.0473\n",
      "Epoch 6/10\n",
      "21s - loss: 0.0497 - val_loss: 0.0492\n",
      "Epoch 7/10\n",
      "21s - loss: 0.0490 - val_loss: 0.0486\n",
      "Epoch 8/10\n",
      "21s - loss: 0.0482 - val_loss: 0.0484\n",
      "Epoch 9/10\n",
      "21s - loss: 0.0477 - val_loss: 0.0482\n",
      "Epoch 10/10\n",
      "21s - loss: 0.0471 - val_loss: 0.0484\n"
     ]
    }
   ],
   "source": [
    "from keras.models import Sequential\n",
    "from keras.layers import Flatten, Dense, Convolution2D, MaxPooling2D, Lambda, Cropping2D, Dropout\n",
    "\n",
    "image_shape = X_train.shape[1:]\n",
    "normalize = lambda x: (x - 127.0) / 127.0\n",
    "cropping = ((60, 0), (0, 0))\n",
    "dropout_rate = 0.5\n",
    "\n",
    "model = Sequential()\n",
    "model.add(Lambda(normalize, input_shape=image_shape))\n",
    "model.add(Cropping2D(cropping=cropping))\n",
    "model.add(Convolution2D(24, kernel_size=(5, 5), strides=(2, 2), padding='valid', activation='relu'))\n",
    "model.add(Convolution2D(36, kernel_size=(5, 5), strides=(2, 2), padding='valid', activation='relu'))\n",
    "model.add(Convolution2D(48, kernel_size=(5, 5), strides=(2, 2), padding='valid', activation='relu'))\n",
    "model.add(Convolution2D(64, kernel_size=(3, 3), padding='valid', activation='relu'))\n",
    "model.add(Convolution2D(64, kernel_size=(3, 3), padding='valid', activation='relu'))\n",
    "\n",
    "model.add(Flatten())\n",
    "model.add(Dropout(dropout_rate))\n",
    "model.add(Dense(100, activation='relu'))\n",
    "model.add(Dropout(dropout_rate))\n",
    "model.add(Dense(50, activation='relu'))\n",
    "model.add(Dropout(dropout_rate))\n",
    "model.add(Dense(10, activation='relu'))\n",
    "model.add(Dense(1))\n",
    "\n",
    "model.compile(loss='mse', optimizer='adam')\n",
    "history = model.fit(X_train, y_train, validation_split=0.2, shuffle=True, verbose=2, batch_size=256, epochs=10)\n",
    "\n",
    "model.save('model.h5')"
   ]
  },
  {
   "cell_type": "code",
   "execution_count": 10,
   "metadata": {
    "collapsed": false
   },
   "outputs": [
    {
     "data": {
      "text/plain": [
       "(None, 9, 37, 48)"
      ]
     },
     "execution_count": 10,
     "metadata": {},
     "output_type": "execute_result"
    }
   ],
   "source": [
    "model.layers[4].output_shape"
   ]
  },
  {
   "cell_type": "code",
   "execution_count": null,
   "metadata": {
    "collapsed": false
   },
   "outputs": [],
   "source": [
    "epochs = history.epoch\n",
    "loss = history.history['loss']\n",
    "val_loss = history.history['val_loss']\n",
    "\n",
    "plt.plot(epochs, loss)\n",
    "plt.plot(epochs, val_loss)\n",
    "plt.ylim(0, 0.2)"
   ]
  },
  {
   "cell_type": "code",
   "execution_count": null,
   "metadata": {
    "collapsed": true
   },
   "outputs": [],
   "source": []
  }
 ],
 "metadata": {
  "kernelspec": {
   "display_name": "Python 3",
   "language": "python",
   "name": "python3"
  },
  "language_info": {
   "codemirror_mode": {
    "name": "ipython",
    "version": 3
   },
   "file_extension": ".py",
   "mimetype": "text/x-python",
   "name": "python",
   "nbconvert_exporter": "python",
   "pygments_lexer": "ipython3",
   "version": "3.5.2"
  },
  "widgets": {
   "state": {},
   "version": "1.1.2"
  }
 },
 "nbformat": 4,
 "nbformat_minor": 2
}

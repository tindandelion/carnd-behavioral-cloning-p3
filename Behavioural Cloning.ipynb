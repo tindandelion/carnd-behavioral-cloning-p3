{
 "cells": [
  {
   "cell_type": "code",
   "execution_count": 1,
   "metadata": {
    "collapsed": true,
    "deletable": true,
    "editable": true
   },
   "outputs": [],
   "source": [
    "import csv\n",
    "import cv2\n",
    "import numpy as np\n",
    "import matplotlib.pyplot as plt\n",
    "from tqdm import tqdm\n",
    "%matplotlib inline\n",
    "%config InlineBackend.figure_format='retina'\n",
    "\n",
    "def read_csv(root_path):\n",
    "    with open(root_path + 'driving_log.csv', 'r') as f:\n",
    "        reader = csv.reader(f)\n",
    "        for line in reader:\n",
    "            yield line\n",
    "\n",
    "def make_local_path(path, local_root):\n",
    "    basename = path.split('/')[-1]\n",
    "    return local_root + 'IMG/' + basename\n",
    "\n",
    "def load_image(local_path):\n",
    "    return cv2.imread(local_path)\n",
    "\n",
    "def extract_images(csv_line, local_root):\n",
    "    paths = csv_line[0:3]\n",
    "    return [load_image(make_local_path(p, local_root)) for p in paths]\n",
    "\n",
    "def extract_measurements(csv_line):\n",
    "    return float(csv_line[3])\n",
    "\n",
    "def read_data(path):\n",
    "    images = []\n",
    "    measurements = []\n",
    "    \n",
    "    for line in tqdm(read_csv(path)):\n",
    "        images.append(extract_images(line, path)[0])\n",
    "        measurements.append(extract_measurements(line))\n",
    "        \n",
    "    return (np.array(images, np.float32), np.array(measurements, np.float32))"
   ]
  },
  {
   "cell_type": "code",
   "execution_count": 2,
   "metadata": {
    "collapsed": false
   },
   "outputs": [
    {
     "name": "stderr",
     "output_type": "stream",
     "text": [
      "12767it [00:34, 369.35it/s]\n"
     ]
    },
    {
     "name": "stdout",
     "output_type": "stream",
     "text": [
      "Image data:  (12767, 160, 320, 3)\n",
      "Measurement data:  (12767,)\n"
     ]
    }
   ],
   "source": [
    "data_path = './driving/'\n",
    "\n",
    "images, measurements = read_data(data_path)\n",
    "print(\"Image data: \", images.shape)\n",
    "print(\"Measurement data: \", measurements.shape)\n",
    "\n",
    "X_train = images\n",
    "y_train = measurements"
   ]
  },
  {
   "cell_type": "code",
   "execution_count": 7,
   "metadata": {
    "collapsed": false,
    "deletable": true,
    "editable": true
   },
   "outputs": [
    {
     "name": "stdout",
     "output_type": "stream",
     "text": [
      "Train on 10213 samples, validate on 2554 samples\n",
      "Epoch 1/20\n",
      "16s - loss: 0.0939 - val_loss: 0.1814\n",
      "Epoch 2/20\n",
      "16s - loss: 0.0746 - val_loss: 0.1643\n",
      "Epoch 3/20\n",
      "16s - loss: 0.0686 - val_loss: 0.1529\n",
      "Epoch 4/20\n",
      "16s - loss: 0.0656 - val_loss: 0.1528\n",
      "Epoch 5/20\n",
      "16s - loss: 0.0631 - val_loss: 0.1835\n",
      "Epoch 6/20\n",
      "16s - loss: 0.0603 - val_loss: 0.1774\n",
      "Epoch 7/20\n",
      "16s - loss: 0.0586 - val_loss: 0.1590\n",
      "Epoch 8/20\n",
      "16s - loss: 0.0550 - val_loss: 0.1592\n",
      "Epoch 9/20\n",
      "16s - loss: 0.0547 - val_loss: 0.1605\n",
      "Epoch 10/20\n",
      "16s - loss: 0.0511 - val_loss: 0.1576\n",
      "Epoch 11/20\n",
      "16s - loss: 0.0485 - val_loss: 0.1767\n",
      "Epoch 12/20\n",
      "16s - loss: 0.0452 - val_loss: 0.1650\n",
      "Epoch 13/20\n",
      "16s - loss: 0.0423 - val_loss: 0.1787\n",
      "Epoch 14/20\n",
      "16s - loss: 0.0413 - val_loss: 0.1675\n",
      "Epoch 15/20\n",
      "16s - loss: 0.0360 - val_loss: 0.1978\n",
      "Epoch 16/20\n",
      "16s - loss: 0.0352 - val_loss: 0.1675\n",
      "Epoch 17/20\n",
      "16s - loss: 0.0330 - val_loss: 0.1840\n",
      "Epoch 18/20\n",
      "16s - loss: 0.0307 - val_loss: 0.1752\n",
      "Epoch 19/20\n",
      "16s - loss: 0.0308 - val_loss: 0.1841\n",
      "Epoch 20/20\n",
      "16s - loss: 0.0277 - val_loss: 0.1754\n"
     ]
    }
   ],
   "source": [
    "from keras.models import Sequential\n",
    "from keras.layers import Flatten, Dense, Convolution2D, MaxPooling2D, Lambda, Cropping2D, Dropout\n",
    "\n",
    "image_shape = X_train.shape[1:]\n",
    "normalize = lambda x: (x - 127.0) / 127.0\n",
    "cropping = ((60, 0), (0, 0))\n",
    "dropout_rate = 0.3\n",
    "\n",
    "model = Sequential()\n",
    "model.add(Lambda(normalize, input_shape=image_shape))\n",
    "model.add(Cropping2D(cropping=cropping))\n",
    "model.add(Convolution2D(24, kernel_size=(5, 5), strides=(2, 2), padding='valid', activation='relu'))\n",
    "model.add(Convolution2D(36, kernel_size=(5, 5), strides=(2, 2), padding='valid', activation='relu'))\n",
    "model.add(Convolution2D(48, kernel_size=(5, 5), strides=(2, 2), padding='valid', activation='relu'))\n",
    "model.add(Convolution2D(64, kernel_size=(3, 3), padding='valid', activation='relu'))\n",
    "model.add(Convolution2D(64, kernel_size=(3, 3), padding='valid', activation='relu'))\n",
    "\n",
    "model.add(Flatten())\n",
    "model.add(Dropout(dropout_rate))\n",
    "model.add(Dense(100, activation='relu'))\n",
    "model.add(Dropout(dropout_rate))\n",
    "model.add(Dense(50, activation='relu'))\n",
    "model.add(Dropout(dropout_rate))\n",
    "model.add(Dense(10, activation='relu'))\n",
    "model.add(Dense(1))\n",
    "\n",
    "model.compile(loss='mse', optimizer='adam')\n",
    "history = model.fit(X_train, y_train, validation_split=0.2, shuffle=True, verbose=2, batch_size=256, epochs=20)\n",
    "\n",
    "model.save('model.h5')"
   ]
  },
  {
   "cell_type": "code",
   "execution_count": 8,
   "metadata": {
    "collapsed": false,
    "deletable": true,
    "editable": true
   },
   "outputs": [
    {
     "data": {
      "text/plain": [
       "(0, 0.2)"
      ]
     },
     "execution_count": 8,
     "metadata": {},
     "output_type": "execute_result"
    },
    {
     "data": {
      "image/png": "[encoded data removed]",
      "text/plain": [
       "<matplotlib.figure.Figure at 0x7feff406f160>"
      ]
     },
     "metadata": {
      "image/png": {
       "height": 252,
       "width": 386
      }
     },
     "output_type": "display_data"
    }
   ],
   "source": [
    "epochs = history.epoch\n",
    "loss = history.history['loss']\n",
    "val_loss = history.history['val_loss']\n",
    "\n",
    "plt.plot(epochs, loss)\n",
    "plt.plot(epochs, val_loss)\n",
    "plt.ylim(0, 0.2)"
   ]
  },
  {
   "cell_type": "code",
   "execution_count": null,
   "metadata": {
    "collapsed": true,
    "deletable": true,
    "editable": true
   },
   "outputs": [],
   "source": []
  }
 ],
 "metadata": {
  "kernelspec": {
   "display_name": "Python 3",
   "language": "python",
   "name": "python3"
  },
  "language_info": {
   "codemirror_mode": {
    "name": "ipython",
    "version": 3
   },
   "file_extension": ".py",
   "mimetype": "text/x-python",
   "name": "python",
   "nbconvert_exporter": "python",
   "pygments_lexer": "ipython3",
   "version": "3.5.2"
  },
  "widgets": {
   "state": {},
   "version": "1.1.2"
  }
 },
 "nbformat": 4,
 "nbformat_minor": 2
}
